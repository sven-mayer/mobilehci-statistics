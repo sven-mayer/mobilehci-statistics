{
 "cells": [
  {
   "cell_type": "markdown",
   "metadata": {},
   "source": [
    "# Process Proceedings\n",
    "This file reads the proceedings from the different years in the `data-proceedings` folder and processes them to extract the metadata, generating the `data-proceedings.csv` file, which is used in the subsequent steps.\n",
    "\n",
    "Author: Sven Mayer (info@sven-mayer.com)\n",
    "\n",
    "LICENSE: GPL-3.0 license "
   ]
  },
  {
   "cell_type": "code",
   "execution_count": 1,
   "metadata": {},
   "outputs": [],
   "source": [
    "import pandas as pd\n",
    "import glob\n",
    "\n",
    "def getEntryStart(entry):\n",
    "    startMetaData = -1\n",
    "    startAuthors = -1\n",
    "    for j in range(len(entry)):\n",
    "        if entry[j].startswith(\"### Meta-Data\"):\n",
    "            startMetaData = j + 1\n",
    "        if entry[j].startswith(\"### Authors\"):\n",
    "            startAuthors = j + 1\n",
    "    return startMetaData, startAuthors\n",
    "\n",
    "def getYear(text):\n",
    "    for i in range(len(text)):\n",
    "        if text[i].startswith(\"# \"):\n",
    "            return text[i].split(\" \")[-1].strip()\n",
    "    return \"\"\n",
    "\n",
    "def getAllEntries(text):\n",
    "    lstStarts = []\n",
    "    for i in range(len(text)):\n",
    "        text[i] = text[i].replace(\"\\n\", \"\").strip()\n",
    "\n",
    "        if text[i].startswith(\"## \"):\n",
    "            lstStarts.append(i)\n",
    "\n",
    "    allEntries = []\n",
    "    for i in range(len(lstStarts)):\n",
    "        if i == len(lstStarts) - 1:\n",
    "            entry = text[lstStarts[i]:]\n",
    "        else:\n",
    "            entry = text[lstStarts[i]:lstStarts[i+1]]\n",
    "        allEntries.append(entry)\n",
    "    return allEntries\n",
    "\n",
    "def getTitles(entry):\n",
    "    for i in range(len(entry)):\n",
    "        if entry[i].startswith(\"# \"):\n",
    "            return entry[i].split(\"# \")[-1].strip()\n",
    "    return \"\"\n",
    "\n",
    "def parseFile(text):\n",
    "    year = getYear(text)\n",
    "    allEntries = getAllEntries(text)\n",
    "\n",
    "    res = []\n",
    "    for entry in allEntries:\n",
    "        doi = \"\"\n",
    "        entryType = \"\"\n",
    "        entrySession = \"\"\n",
    "        title = getTitles(entry)\n",
    "        startMetaData, startAuthors = getEntryStart(entry)\n",
    "        if (startMetaData == -1) or (startAuthors == -1):\n",
    "            print(\"ERROR\")\n",
    "        else:\n",
    "            for meta in entry[startMetaData:startAuthors]:\n",
    "                if meta.startswith(\"* DOI: \"):\n",
    "                    doi = meta.split(\"* DOI: \")[-1]\n",
    "                if meta.startswith(\"* Type: \"):\n",
    "                    entryType = meta.split(\"* Type: \")[-1]\n",
    "                if meta.startswith(\"* Session: \"):\n",
    "                    entrySession = meta.split(\"* Session: \")[-1]\n",
    "            for order, author in enumerate(entry[startAuthors:]):\n",
    "                if (author.startswith(\"* \")):\n",
    "                    parts = author[2:].split(\" = \")\n",
    "                    name = parts[0].strip()\n",
    "                    affiliation = parts[1].strip()\n",
    "                    alpha3 = parts[2].strip()\n",
    "                    url = parts[3].strip()\n",
    "                    res.append({\"Year\": year, \"Doi\": doi, \"Title\": title, \"Order\":order+1, \"Name\": name, \"Affiliation\": affiliation, \"Alpha-3\": alpha3, \"Url\":url, \"Type\":entryType, \"Session\": entrySession})\n",
    "\n",
    "    df = pd.DataFrame(res)\n",
    "    return df\n",
    "\n",
    "\n",
    "dfs = []\n",
    "for filename in glob.glob('./data-proceedings/*.md'):\n",
    "    with open(filename, \"r\") as f:\n",
    "        text = f.readlines()\n",
    "        dfs.append(parseFile(text))\n",
    "\n",
    "df = pd.concat(dfs)\n",
    "df.Year = df.Year.astype(int)\n",
    "df = df.sort_values([\"Year\", \"Doi\", \"Order\"])\n",
    "\n",
    "df.to_csv(\"./data-proceedings/authors.csv\", index=False)"
   ]
  },
  {
   "cell_type": "code",
   "execution_count": 2,
   "metadata": {},
   "outputs": [
    {
     "name": "stdout",
     "output_type": "stream",
     "text": [
      "Number of entries: 3714\n",
      "Number of unique DOIs: 958\n",
      "Number of unique authors: 2559\n",
      "Number of unique affiliations: 497\n",
      "Number of unique countries: 52\n",
      "Number of unique types: 3\n",
      "Number of unique sessions: 153\n",
      "Years (n=20): [2005 2006 2007 2008 2009 2010 2011 2012 2013 2014 2015 2016 2017 2018\n",
      " 2019 2020 2021 2022 2023 2024]\n"
     ]
    }
   ],
   "source": [
    "print(f\"Number of entries: {len(df)}\")\n",
    "print(f\"Number of unique DOIs: {len(df.Doi.unique())}\")\n",
    "print(f\"Number of unique authors: {len(df.Name.unique())}\")\n",
    "print(f\"Number of unique affiliations: {len(df.Affiliation.unique())}\")\n",
    "print(f\"Number of unique countries: {len(df['Alpha-3'].unique())}\")\n",
    "print(f\"Number of unique types: {len(df.Type.unique())}\")\n",
    "print(f\"Number of unique sessions: {len(df.Session.unique())}\")\n",
    "print(f\"Years (n={len(df.Year.unique())}): {df.Year.unique()}\")"
   ]
  }
 ],
 "metadata": {
  "authors": [
   {
    "name": "Sven Mayer"
   }
  ],
  "kernelspec": {
   "display_name": "Python 3 (ipykernel)",
   "language": "python",
   "name": "python3"
  }
 },
 "nbformat": 4,
 "nbformat_minor": 2
}
